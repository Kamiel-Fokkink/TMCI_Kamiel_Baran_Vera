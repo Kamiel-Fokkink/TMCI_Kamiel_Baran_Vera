{
 "cells": [
  {
   "cell_type": "markdown",
   "metadata": {},
   "source": [
    "# Preprocess Notebook\n",
    "\n",
    "This notebook is dedicated to the preprocessing of the data. The input file is in the format of an .tmx file. The steps that are currently being done are:\n",
    "1. Extract lines\n",
    "2. Store surplus\n",
    "3. Pair lines\n",
    "\n",
    "## Imports\n",
    "Below are all the libraries used for this notebook"
   ]
  },
  {
   "cell_type": "code",
   "execution_count": 3,
   "metadata": {
    "run_control": {
     "marked": false
    }
   },
   "outputs": [],
   "source": [
    "import re\n",
    "import pickle\n",
    "import copy"
   ]
  },
  {
   "cell_type": "markdown",
   "metadata": {},
   "source": [
    "## Cleaning the data\n",
    "This function includes all cleaning steps of the data. It reads the tmx file, takes out the lines that interest the model, removes unnecessary tags, and pairs the lines as englist-dutch respective order. Afterwards, it writes the data in a pickle for further usage. A pickle reading function with an optional limiter has also been included."
   ]
  },
  {
   "cell_type": "code",
   "execution_count": 1,
   "metadata": {},
   "outputs": [],
   "source": [
    "def clean(input_location: str, output_location: str, chunk_size = 1048576):\n",
    "    \"\"\" This function takes a file, reads it, separates it, and saves it\n",
    "    to a document via pickling it. Chunk size means the number of characters\n",
    "    which roughly converts to the amount of bytes. Default setting is equal to a\n",
    "    Megabyte. \"\"\"\n",
    "    \n",
    "    # Opening the filestreams\n",
    "    input_file = open(input_location, \"r\")\n",
    "    output_file = open(f\"data/{output_location}\", \"wb\")\n",
    "    \n",
    "    # Reading the first chunk\n",
    "    chunk = input_file.read(chunk_size)\n",
    "    \n",
    "    waiting_single = [[], []]              # Variable to hold the line pairs\n",
    "    extra = \" \"                            # Variable to hold extra strings\n",
    "    \n",
    "    while chunk:\n",
    "        #print(chunk+extra+\"\\n\\n\")\n",
    "        lines, extra = getLines(extra + chunk)\n",
    "        #print(f\"{lines}\\n{extra}\")\n",
    "        if not lines:\n",
    "            chunk = input_file.read(chunk_size)\n",
    "            continue\n",
    "        waiting_single, pairs = pair(waiting_single, lines)\n",
    "        pickle.dump(pairs, output_file)\n",
    "        chunk = input_file.read(chunk_size)\n",
    "    input_file.close()\n",
    "    output_file.close()\n",
    "        \n",
    "       "
   ]
  },
  {
   "cell_type": "code",
   "execution_count": null,
   "metadata": {},
   "outputs": [],
   "source": [
    "def pair(temp: list, lines: list) -> list:\n",
    "    \"\"\" Takes two list, one with all the unpaired lines, and a list with possibly an\n",
    "    unpaired single and a tag. \"\"\"\n",
    "    \n",
    "    results = list()\n",
    "    for tag, line in lines:\n",
    "        if len(temp[0]) == 2 and f\"{temp[1][0]}{temp[1][1]}\" != \"ennl\":\n",
    "            # If the pair is wrongly ordered\n",
    "            print(temp)\n",
    "            print(results)\n",
    "            raise Exception(\"Line mismatch occured\")\n",
    "        elif len(temp[0]) == 2:\n",
    "            # If the pair is correct\n",
    "            results.append(copy.copy(temp[0]))\n",
    "            temp = [[],[]]\n",
    "        # The part which adds a line to be paired\n",
    "        temp[0].append(line)\n",
    "        temp[1].append(tag)\n",
    "    return (temp, results)\n",
    "  "
   ]
  },
  {
   "cell_type": "code",
   "execution_count": null,
   "metadata": {},
   "outputs": [],
   "source": [
    "def getLines(temp_str: str) -> (list, str):\n",
    "    \"\"\" Takes a string, extracts the lines with actual quotes.\n",
    "    Returns the lines and the string left after the last line. \"\"\"\n",
    "    \n",
    "    lines = re.findall(r\"<tuv.+?(?=</seg>)</seg>\", temp_str)\n",
    "    # If there is no lines to find, pass the string as a whole\n",
    "    if not lines:\n",
    "        return [[], temp_str]\n",
    "    # If there is a line, this part extracts the text after\n",
    "    # the last scanned line\n",
    "    if lines[-1] != temp_str[-len(lines[-1]):]:\n",
    "        remnants = \"\"\n",
    "        for i in range(1, len(temp_str)-len(lines[-1])):\n",
    "            if lines[-1] == temp_str[-(len(lines[-1])+i):-i]:\n",
    "                break\n",
    "            else:\n",
    "                remnants += temp_str[-i]\n",
    "    # Erases the parts we are not interested in\n",
    "    lines = [(line[15:17], line[24:-6]) for line in lines]\n",
    "    return (lines, remnants[::-1])\n"
   ]
  },
  {
   "cell_type": "code",
   "execution_count": 5,
   "metadata": {},
   "outputs": [],
   "source": [
    "def readPickle(pickle_off: str, limiter = -1):\n",
    "    \"\"\" Read the pickle either in a limited amount of chunks or all\n",
    "    of them at once. \"\"\"\n",
    "    objects = []\n",
    "    file_stream = (open(pickle_off, \"rb\"))\n",
    "    while limiter != 0:\n",
    "        try:\n",
    "            objects.append(pickle.load(file_stream))\n",
    "            limiter -= 1\n",
    "        except EOFError:\n",
    "            break\n",
    "    return objects"
   ]
  }
 ],
 "metadata": {
  "kernelspec": {
   "display_name": "Python 3",
   "language": "python",
   "name": "python3"
  },
  "language_info": {
   "codemirror_mode": {
    "name": "ipython",
    "version": 3
   },
   "file_extension": ".py",
   "mimetype": "text/x-python",
   "name": "python",
   "nbconvert_exporter": "python",
   "pygments_lexer": "ipython3",
   "version": "3.7.5"
  },
  "varInspector": {
   "cols": {
    "lenName": 16,
    "lenType": 16,
    "lenVar": 40
   },
   "kernels_config": {
    "python": {
     "delete_cmd_postfix": "",
     "delete_cmd_prefix": "del ",
     "library": "var_list.py",
     "varRefreshCmd": "print(var_dic_list())"
    },
    "r": {
     "delete_cmd_postfix": ") ",
     "delete_cmd_prefix": "rm(",
     "library": "var_list.r",
     "varRefreshCmd": "cat(var_dic_list()) "
    }
   },
   "types_to_exclude": [
    "module",
    "function",
    "builtin_function_or_method",
    "instance",
    "_Feature"
   ],
   "window_display": false
  }
 },
 "nbformat": 4,
 "nbformat_minor": 2
}
